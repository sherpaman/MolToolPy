{
 "cells": [
  {
   "cell_type": "markdown",
   "metadata": {},
   "source": [
    "#Scripts\n",
    "\n",
    "## Calculate Mutual Info\n",
    "\n",
    "The script __\"calculate_mutual_info.py\"__ takes as an input a file containing various time-series replicas: each column will be interpreted as different replica and each row will be a different value as a function of time.\n",
    "\n",
    "The replicas needs to have the same number of time-measures (i.e. same number of rows).\n",
    "\n",
    "The output will contain a symmetric matrix of size (N x N) where N = number of replicas, which contains the Mutual Information of each replica against the others (on the diagonal the values of Information Entropy of each replica).\n",
    "\n",
    "The script starts by loading the needed packages:"
   ]
  },
  {
   "cell_type": "code",
   "execution_count": null,
   "metadata": {
    "collapsed": true,
    "scrolled": true
   },
   "outputs": [],
   "source": [
    "import ts\n",
    "import matplotlib.pyplot as plt\n",
    "import numpy as np\n",
    "from argparse import ArgumentParser"
   ]
  },
  {
   "cell_type": "markdown",
   "metadata": {},
   "source": [
    "then the argument parser is defined:"
   ]
  },
  {
   "cell_type": "code",
   "execution_count": null,
   "metadata": {
    "collapsed": true,
    "scrolled": false
   },
   "outputs": [],
   "source": [
    "parser = ArgumentParser( description = 'Calculate Mutual Information')\n",
    "#\n",
    "# SEE FILE FOR DETAILS.\n",
    "#\n",
    "options = parser.parse_args()"
   ]
  },
  {
   "cell_type": "markdown",
   "metadata": {},
   "source": [
    "### Arguments\n",
    "\n",
    "The Input file format has been already described. Other options give the possibility to :\n",
    "\n",
    "* load and analyse the time-series using only one every n-th frame (__--stride__)\n",
    "* define the number of bins to be used to build the histograms (__--nbins__)\n",
    "* use a simple (and not so clever) optimization for calculate the optimal bin-width (__--opt__)\n",
    "* specify the dimensionality and the organization of the data in the input file (__--ndim__ and __--interleave__)\n",
    "    * For more informations concerning this aspect read the next paragraph\n",
    "* create an image containing a representation of the results (__--plot__)"
   ]
  },
  {
   "cell_type": "markdown",
   "metadata": {},
   "source": [
    "#### Data dimensionality and reorganization\n",
    "\n",
    "By default the program assumes that the data are 1-dimensional time series, so if the input files contains N\n",
    "columns it will generate N replicas.\n",
    "But the data can also be multi dimensional: if the user specify that the data are k-dimensional, if the\n",
    "input files contains N columns it will generate N/k replicas.\n",
    "In the case the user specifies that the data has to be represented in k($>1$) dimensions, by default the\n",
    "script assumes that the values of the various dimensions of a given replicas are consecutives columns.\n"
   ]
  },
  {
   "cell_type": "markdown",
   "metadata": {},
   "source": [
    "__EXAMPLE:__\n",
    " If we specify --dim 3 and tha files contains 6 columns, the program will genrate 2 3-dim replicas, and it will assume that the column in the input file are:\n",
    " \n",
    "X1 Y1 Z1 X2 Y2 Z2\n",
    "\n",
    "i.e. : the 1-st column is the 1-st dimension of the 1-st replica, the 2-nd column in the 2-nd dimension of the 1-st replica and so on.\n",
    "\n",
    "Specifing the option __--interleave__, the user can modify this behaviour and the script will instead assume that the input data are organized as the following:\n",
    "\n",
    "X1 X2 Y1 Y2 Z1 Z2 \n",
    "\n",
    "i.e. : the first N/k colum are the 1-st dimension of replicas, followed by N/K columns containing the 2-nd dimension and son on."
   ]
  },
  {
   "cell_type": "markdown",
   "metadata": {},
   "source": [
    "### Description\n",
    "\n",
    "The reorganization of the data in the correct order is made using the following function:"
   ]
  },
  {
   "cell_type": "code",
   "execution_count": null,
   "metadata": {
    "collapsed": true,
    "scrolled": true
   },
   "outputs": [],
   "source": [
    "def interleave(data,ndim):\n",
    "    nfr, nrep = data.shape\t\n",
    "    out = np.zeros(data.shape)\n",
    "    for i in range(nrep/ndim):\n",
    "        or j in range(ndim):\n",
    "        out[:,ndim*i+j]   = data[:,j*(nrep/ndim)+i]\n",
    "    return out"
   ]
  },
  {
   "cell_type": "markdown",
   "metadata": {},
   "source": [
    "Following our exploration of the script we now enter in the actual execution.\n",
    "\n",
    "Firstly the options are stored in more readable variables."
   ]
  },
  {
   "cell_type": "code",
   "execution_count": null,
   "metadata": {
    "collapsed": true,
    "scrolled": true
   },
   "outputs": [],
   "source": [
    "f_dat = options.dat\n",
    "f_out = options.out\n",
    "stride = options.stride"
   ]
  },
  {
   "cell_type": "markdown",
   "metadata": {},
   "source": [
    "and finally the data is read from the file specified from the user and if the *--interleave* option has been selected the data is reorganized as described above and stored in a numpy array named *dat*"
   ]
  },
  {
   "cell_type": "code",
   "execution_count": null,
   "metadata": {
    "collapsed": true,
    "scrolled": true
   },
   "outputs": [],
   "source": [
    "dat   = np.loadtxt(f_dat)\n",
    "dat   = dat[::stride]\n",
    "\n",
    "if (options.interleave) & (options.ndim != 1):\n",
    "        dat = interleave(dat,options.ndim)\n"
   ]
  },
  {
   "cell_type": "markdown",
   "metadata": {},
   "source": [
    "Then the dat array is used to create an instance of the TimeSer Object defined in the *ts* module."
   ]
  },
  {
   "cell_type": "code",
   "execution_count": null,
   "metadata": {
    "collapsed": true,
    "scrolled": true
   },
   "outputs": [],
   "source": [
    "DATA= ts.TimeSer(dat,len(dat),dim=options.ndim,nbins=options.nbins)\n",
    "DATA.calc_bins(opt=options.opt)"
   ]
  },
  {
   "cell_type": "markdown",
   "metadata": {},
   "source": [
    "In the TimeSer Object a series of procedre for the calculation of Statistical Entropy, Mutual Information and Information Transfer are available.\n",
    "\n",
    "The most crucial and time consuming functions multiple are actually wrapper for __FORTRAN90__ code that have been compiled with the __f2py__ tool. These function variants are identified by the post-fix __\"for\"__.\n",
    "\n",
    "Some of the functions have also been parallelized with __OpenMP__. The Module automatically identify the number of processors available on the computer, and automatically gnereates an equal number of threads and equally distributes the calculations among these threads. The parallelized versions are identified by the post-fix __\"omp\"__.\n",
    "\n",
    "In the script here presented we use the __\"OMP\"__ version of the __\"mutual_info()\"__ function [called __\"mutual_info_omp()\"__], wich produces as an output two numpy arrays:\n",
    "\n",
    "* __M__ [ size (NxN) N = num. of replicas ] : Mutual Information.\n",
    "* __E__ [ size (NxN) N = num. of replicas ] : Entropies joint distributions of replicas.\n"
   ]
  },
  {
   "cell_type": "code",
   "execution_count": null,
   "metadata": {
    "collapsed": true,
    "scrolled": true
   },
   "outputs": [],
   "source": [
    "M, E = DATA.mutual_info_omp()"
   ]
  },
  {
   "cell_type": "markdown",
   "metadata": {},
   "source": [
    "Then finally an image representing the Mutual Information matrix is generated using matplotlib."
   ]
  },
  {
   "cell_type": "code",
   "execution_count": null,
   "metadata": {
    "collapsed": true,
    "scrolled": true
   },
   "outputs": [],
   "source": [
    "fig = plt.figure()\n",
    "ax  = fig.add_subplot(111)\n",
    "mat = ax.matshow(M)\n",
    "fig.colorbar(mat)\n",
    "plt.show()"
   ]
  },
  {
   "cell_type": "markdown",
   "metadata": {},
   "source": [
    "If asked the image is also saved to a file in the SVG format (Scalable Vector Graphics) that can be easily opened with any vector graphic editor (e.g. Inkscape, Adobe Illustrator)"
   ]
  },
  {
   "cell_type": "code",
   "execution_count": null,
   "metadata": {
    "collapsed": true,
    "scrolled": true
   },
   "outputs": [],
   "source": [
    "if options.plot:\n",
    "    fig.savefig(f_out.split('.')[0]+\".svg\",format='svg')"
   ]
  },
  {
   "cell_type": "markdown",
   "metadata": {},
   "source": [
    "And the Mutual Information Matrix is also saved to disk in text format."
   ]
  },
  {
   "cell_type": "code",
   "execution_count": null,
   "metadata": {
    "collapsed": true,
    "scrolled": true
   },
   "outputs": [],
   "source": [
    "np.savetxt(f_out,M)\n",
    "quit()"
   ]
  }
 ],
 "metadata": {
  "kernelspec": {
   "display_name": "Python 2",
   "language": "python",
   "name": "python2"
  },
  "language_info": {
   "codemirror_mode": {
    "name": "ipython",
    "version": 2
   },
   "file_extension": ".py",
   "mimetype": "text/x-python",
   "name": "python",
   "nbconvert_exporter": "python",
   "pygments_lexer": "ipython2",
   "version": "2.7.3"
  }
 },
 "nbformat": 4,
 "nbformat_minor": 0
}
